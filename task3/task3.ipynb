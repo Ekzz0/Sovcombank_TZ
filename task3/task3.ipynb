{
 "cells": [
  {
   "cell_type": "markdown",
   "source": [
    "На основе ТЕХНИЧЕСКОГО РЕГЛАМЕНТА ТАМОЖЕННОГО СОЮЗА \"О БЕЗОПАСНОСТИ ЖЕЛЕЗНОДОРОЖНОГО ПОДВИЖНОГО СОСТАВА\" сделайте нейро-консультанта, отвечающего на вопросы по документу.\n",
    "Проработайте промпт самостоятельно. Нейро-консультант не должен отвечать на вопросы, не касающиеся документа (необходимо предусмотреть это в промпте).\n",
    "Поэкспериментируйте со сплиттерами, найдите оптимальный вариант.\n",
    "Сделайте нейро-консультанта, проверьте его работу на самостоятельно-сформулированных вопросах (достаточно 2-3)\n",
    "\n",
    "Ссылка на регламент: https://docs.google.com/document/d/1YhUEX9fZDNTeE3eJ-yXskxZG46LsTRYvXjZ9Ij-t3Gw"
   ],
   "metadata": {
    "collapsed": false,
    "pycharm": {
     "name": "#%% md\n"
    }
   }
  },
  {
   "cell_type": "code",
   "execution_count": 1,
   "outputs": [],
   "source": [
    "# !pip install faiss-cpu langchain==0.0.271 openai==0.28.1 tiktokenm"
   ],
   "metadata": {
    "collapsed": false,
    "pycharm": {
     "name": "#%%\n"
    }
   }
  },
  {
   "cell_type": "code",
   "execution_count": 2,
   "outputs": [],
   "source": [
    "import os\n",
    "from langchain.embeddings.openai import OpenAIEmbeddings\n",
    "from langchain.vectorstores import FAISS\n",
    "import re\n",
    "import requests\n",
    "import openai\n",
    "from langchain.text_splitter import RecursiveCharacterTextSplitter\n",
    "# from langchain.text_splitter import MarkdownHeaderTextSplitter\n",
    "# import matplotlib.pyplot as plt\n",
    "import tiktoken\n",
    "from langchain.docstore.document import Document\n",
    "\n",
    "from config import API_TOKEN, PROMT\n",
    "from task3.errors_processing import errors_handler\n",
    "\n",
    "\n",
    "# openai_key = getpass.getpass(\"OpenAI API Key:\")\n",
    "os.environ[\"OPENAI_API_KEY\"] = API_TOKEN\n",
    "openai.api_key = API_TOKEN"
   ],
   "metadata": {
    "collapsed": false,
    "pycharm": {
     "name": "#%%\n"
    }
   }
  },
  {
   "cell_type": "code",
   "execution_count": 3,
   "outputs": [],
   "source": [
    "# функция для загрузки документа по ссылке из гугл драйв\n",
    "def load_document_text(url: str) -> str:\n",
    "    # Extract the document ID from the URL\n",
    "    match_ = re.search('/document/d/([a-zA-Z0-9-_]+)', url)\n",
    "    if match_ is None:\n",
    "        raise ValueError('Invalid Google Docs URL')\n",
    "    doc_id = match_.group(1)\n",
    "\n",
    "    # Download the document as plain text\n",
    "    response = requests.get(f'https://docs.google.com/document/d/{doc_id}/export?format=txt')\n",
    "    response.raise_for_status()\n",
    "    text = response.text\n",
    "\n",
    "    return text"
   ],
   "metadata": {
    "collapsed": false,
    "pycharm": {
     "name": "#%%\n"
    }
   }
  },
  {
   "cell_type": "code",
   "execution_count": 4,
   "outputs": [],
   "source": [
    "# URL для документа с регламентом:\n",
    "URL = 'https://docs.google.com/document/d/1YhUEX9fZDNTeE3eJ-yXskxZG46LsTRYvXjZ9Ij-t3Gw'\n",
    "\n",
    "# Документ с регламентом:\n",
    "document = load_document_text(URL)"
   ],
   "metadata": {
    "collapsed": false,
    "pycharm": {
     "name": "#%%\n"
    }
   }
  },
  {
   "cell_type": "code",
   "execution_count": 5,
   "outputs": [],
   "source": [
    "def document_processing(data: str) -> str:\n",
    "    return re.sub(r'[\\r\\n\\t\\f\\v]+', '', data)"
   ],
   "metadata": {
    "collapsed": false,
    "pycharm": {
     "name": "#%%\n"
    }
   }
  },
  {
   "cell_type": "code",
   "execution_count": 6,
   "outputs": [
    {
     "data": {
      "text/plain": "167"
     },
     "execution_count": 6,
     "metadata": {},
     "output_type": "execute_result"
    }
   ],
   "source": [
    "source_chunks = []\n",
    "splitter = RecursiveCharacterTextSplitter(chunk_size=1024, chunk_overlap=0)\n",
    "\n",
    "for chunk in splitter.split_text(document):\n",
    "    source_chunks.append(Document(page_content=chunk, metadata={}))\n",
    "\n",
    "# всего получилось чанков:\n",
    "len(source_chunks)"
   ],
   "metadata": {
    "collapsed": false,
    "pycharm": {
     "name": "#%%\n"
    }
   }
  },
  {
   "cell_type": "code",
   "execution_count": 14,
   "outputs": [],
   "source": [
    "# # первый чанк\n",
    "# print(source_chunks[0])\n",
    "# page_content = source_chunks[0].page_content\n",
    "# # длина первого чанка\n",
    "# print(len(page_content))"
   ],
   "metadata": {
    "collapsed": false,
    "pycharm": {
     "name": "#%%\n"
    }
   }
  },
  {
   "cell_type": "code",
   "execution_count": 7,
   "outputs": [],
   "source": [
    "# Инициализирум модель эмбеддингов\n",
    "embeddings = OpenAIEmbeddings()\n",
    "\n",
    "# Создадим индексную базу из разделенных фрагментов текста\n",
    "db = FAISS.from_documents(source_chunks, embeddings)"
   ],
   "metadata": {
    "collapsed": false,
    "pycharm": {
     "name": "#%%\n"
    }
   }
  },
  {
   "cell_type": "code",
   "execution_count": 8,
   "outputs": [],
   "source": [
    "# Функция, которая позволяет выводить ответ модели в удобочитаемом виде\n",
    "def insert_newlines(text: str, max_len: int = 170) -> str:\n",
    "    words = text.split()\n",
    "    lines = []\n",
    "    current_line = \"\"\n",
    "    for word in words:\n",
    "        if len(current_line + \" \" + word) > max_len:\n",
    "            lines.append(current_line)\n",
    "            current_line = \"\"\n",
    "        current_line += \" \" + word\n",
    "    lines.append(current_line)\n",
    "    return \" \".join(lines)\n",
    "\n",
    "@errors_handler\n",
    "def get_answer(user_message: str, promt: str, search_index: FAISS, verbose: bool = False, k: int = 5) -> str:\n",
    "    # Поиск релевантных отрезков из базы знаний\n",
    "    docs = search_index.similarity_search(user_message, k=k)\n",
    "\n",
    "    message_content = re.sub(r'\\n{2}', ' ', '\\n '.join([f'\\nОтрывок документа №{i+1}\\n=====================' + doc.page_content + '\\n' for i, doc in enumerate(docs)]))\n",
    "\n",
    "    messages = [\n",
    "        {\"role\": \"system\", \"content\": promt},\n",
    "        {\"role\": \"user\", \"content\": f\"Ответь на вопрос клиента. Не упоминай документ с информацией или его название для ответа клиенту в ответе. Документ с информацией для ответа клиенту: {message_content}\\n\\nВопрос клиента: \\n{user_message}\"}\n",
    "    ]\n",
    "\n",
    "    # Компиляция openAI бота:\n",
    "    completion = openai.ChatCompletion.create(\n",
    "        model=\"gpt-3.5-turbo\",\n",
    "        messages=messages,\n",
    "        temperature=0\n",
    "    )\n",
    "    answer = insert_newlines(completion.choices[0].message.content)\n",
    "\n",
    "    if verbose:\n",
    "        print('\\n ===========================================: ')\n",
    "        print('message_content :\\n ======================================== \\n', message_content)\n",
    "        print('\\n ===========================================: ')\n",
    "\n",
    "    return answer\n"
   ],
   "metadata": {
    "collapsed": false,
    "pycharm": {
     "name": "#%%\n"
    }
   }
  },
  {
   "cell_type": "markdown",
   "source": [
    "# Пример корректных вопросов в рамках документа:"
   ],
   "metadata": {
    "collapsed": false,
    "pycharm": {
     "name": "#%% md\n"
    }
   }
  },
  {
   "cell_type": "code",
   "execution_count": 9,
   "outputs": [
    {
     "data": {
      "text/plain": "' Биологическая безопасность в контексте железнодорожного подвижного состава означает отсутствие возможности возникновения опасного биологического воздействия. Это  означает, что продукция должна быть безопасной для людей и окружающей среды в отношении биологических факторов. Документ указывает, что материалы и вещества,  используемые при производстве железнодорожного подвижного состава и его составных частей, должны быть безопасными с точки зрения биологической безопасности. Это  означает, что они не должны представлять опасности для здоровья людей и окружающей среды в отношении биологических аспектов.'"
     },
     "execution_count": 9,
     "metadata": {},
     "output_type": "execute_result"
    }
   ],
   "source": [
    "user_message = \"Что такое биологическая безопасность?\"\n",
    "ans = get_answer(user_message, PROMT, db)\n",
    "ans"
   ],
   "metadata": {
    "collapsed": false,
    "pycharm": {
     "name": "#%%\n"
    }
   }
  },
  {
   "cell_type": "code",
   "execution_count": 10,
   "outputs": [
    {
     "data": {
      "text/plain": "' Пассажирские локомотивы должны быть оборудованы следующими устройствами: 1. Поездная радиосвязь - для обеспечения связи между локомотивом и другими участками  железнодорожной инфраструктуры. 2. Автоматизированная система управления - обеспечивает контроль скорости движения и возможность получения и передачи речевой информации  при подъездах к входным и выходным светофорам, железнодорожным переездам и станциям. 3. Автоматическая пожарная сигнализация - для обнаружения и предотвращения пожаров в  локомотиве. 4. Регистраторы параметров движения - записывают данные о скорости, ускорении, торможении и других параметрах движения локомотива. 5. Автоматическая  локомотивная сигнализация - предупреждает о приближении к опасным участкам пути, таким как железнодорожные переезды. 6. Электропневматический тормоз - обеспечивает  безопасное торможение локомотива. 7. Установка пожаротушения - предназначена для защиты зон, предусмотренных техническим регламентом, от возгорания. 8. Система  автоматического управления торможением поезда или комплексное локомотивное устройство безопасности - дополнительные устройства, которые должны быть установлены на  пассажирских локомотивах, обслуживаемых одним машинистом, для обеспечения безопасности движения.'"
     },
     "execution_count": 10,
     "metadata": {},
     "output_type": "execute_result"
    }
   ],
   "source": [
    "user_message = \"Какими устройствами должны быть оборудованы пассажирские локомотивы?\"\n",
    "ans = get_answer(user_message, PROMT, db)\n",
    "ans"
   ],
   "metadata": {
    "collapsed": false,
    "pycharm": {
     "name": "#%%\n"
    }
   }
  },
  {
   "cell_type": "code",
   "execution_count": 11,
   "outputs": [
    {
     "data": {
      "text/plain": "' Анализ состояния производства продукции проводится в отношении следующих аспектов: - Технологических процессов; - Технологической и конструкторской документации (включая  управление ею); - Средств технологического оснащения; - Технологических режимов; - Управления средствами технологического оснащения; - Управления метрологическим  оборудованием; - Методик исследований (испытаний) и измерений; - Порядка проведения контроля сырья и комплектующих изделий; - Порядка проведения контроля продукции в  процессе ее производства; - Управления несоответствующей продукцией; - Порядка работы с рекламациями; - Управления персоналом; - Управления нормативной документацией на  продукцию. Анализ состояния производства продукции проводится с целью установления наличия необходимых условий для изготовления продукции со стабильными  характеристиками, проверяемыми при сертификации. По итогам анализа состояния производства продукции составляется акт о результатах анализа состояния производства  сертифицируемой продукции, в котором указываются результаты анализа, дополнительные материалы, использованные при анализе, общая оценка состояния производства и  необходимость выполнения корректирующих действий.'"
     },
     "execution_count": 11,
     "metadata": {},
     "output_type": "execute_result"
    }
   ],
   "source": [
    "user_message = \"В отношении чего проводится анализ состояния производства продукции?\"\n",
    "ans = get_answer(user_message, PROMT, db)\n",
    "ans"
   ],
   "metadata": {
    "collapsed": false,
    "pycharm": {
     "name": "#%%\n"
    }
   }
  },
  {
   "cell_type": "markdown",
   "source": [
    "# Пример некорректного вопроса, который выходит за рамки документа:"
   ],
   "metadata": {
    "collapsed": false,
    "pycharm": {
     "name": "#%% md\n"
    }
   }
  },
  {
   "cell_type": "code",
   "execution_count": 12,
   "outputs": [
    {
     "data": {
      "text/plain": "' Извините, но я не могу ответить на ваш вопрос о ловле окуня, так как я консультант по техническому регламенту таможенного союза и мои обязанности связаны с  предоставлением информации о безопасности железнодорожного подвижного состава. Если у вас есть вопросы по этой теме, я с удовольствием помогу вам.'"
     },
     "execution_count": 12,
     "metadata": {},
     "output_type": "execute_result"
    }
   ],
   "source": [
    "user_message = \"На какую снасть лучше ловить окуня?\"\n",
    "ans = get_answer(user_message, PROMT, db)\n",
    "ans"
   ],
   "metadata": {
    "collapsed": false,
    "pycharm": {
     "name": "#%%\n"
    }
   }
  }
 ],
 "metadata": {
  "kernelspec": {
   "display_name": "Python 3",
   "language": "python",
   "name": "python3"
  },
  "language_info": {
   "codemirror_mode": {
    "name": "ipython",
    "version": 2
   },
   "file_extension": ".py",
   "mimetype": "text/x-python",
   "name": "python",
   "nbconvert_exporter": "python",
   "pygments_lexer": "ipython2",
   "version": "2.7.6"
  }
 },
 "nbformat": 4,
 "nbformat_minor": 0
}