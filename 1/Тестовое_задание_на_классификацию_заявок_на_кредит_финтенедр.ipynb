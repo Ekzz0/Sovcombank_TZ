{
 "cells": [
  {
   "cell_type": "code",
   "execution_count": 99,
   "id": "0a54d606",
   "metadata": {
    "pycharm": {
     "name": "#%%\n"
    }
   },
   "outputs": [],
   "source": [
    "# всякие импорты\n",
    "from matplotlib import pyplot as plt\n",
    "import statistics\n",
    "from scipy import stats\n",
    "import pandas as pd\n",
    "import numpy as np"
   ]
  },
  {
   "cell_type": "code",
   "execution_count": 100,
   "id": "7127a754",
   "metadata": {
    "pycharm": {
     "name": "#%%\n"
    }
   },
   "outputs": [],
   "source": [
    "main_dir = r'df_main_full_float_4version.pkl'\n",
    "df_main_full_float = pd.read_pickle('df_main_full_float_4version.pkl')"
   ]
  },
  {
   "cell_type": "code",
   "execution_count": 101,
   "id": "4d60ebdd",
   "metadata": {
    "pycharm": {
     "name": "#%%\n"
    }
   },
   "outputs": [
    {
     "data": {
      "text/plain": "            Возраст, лет filtered_OKVED_cat filtered_RegionCode_cat  \\\nkey_0                                                                 \n6168070785      9.493151                  0                     0.0   \n7811726886      4.153425                  5                     5.0   \n7802632166      5.747945                  3                     5.0   \n5050137641      5.021918                 12                     6.0   \n5503175782      5.928767                  6                    19.0   \n...                  ...                ...                     ...   \n5001092490     10.317808                  3                     6.0   \n7720470186      3.980822                  0                     1.0   \n2339017184     15.476712                  1                    13.0   \n2348031481     12.698630                  6                    13.0   \n7734634941     13.134247                  3                     1.0   \n\n            RegionType_binarized   Line1100   Line1150  Line1170   Line1240  \\\nkey_0                                                                         \n6168070785                     0        0.0        0.0       0.0  5090000.0   \n7811726886                     1   294000.0   294000.0       0.0        0.0   \n7802632166                     1        0.0        0.0       0.0        0.0   \n5050137641                     0  3968000.0  3968000.0       0.0        0.0   \n5503175782                     0        0.0        0.0       0.0        0.0   \n...                          ...        ...        ...       ...        ...   \n5001092490                     0    54000.0    54000.0       0.0    20000.0   \n7720470186                     1   998000.0   998000.0       0.0        0.0   \n2339017184                     0   620000.0   620000.0       0.0     8000.0   \n2348031481                     0        0.0        0.0       0.0        0.0   \n7734634941                     1        0.0        0.0       0.0        0.0   \n\n             Line1300   Line1370  ...  \\\nkey_0                             ...   \n6168070785  7870000.0  7860000.0  ...   \n7811726886   852000.0   852000.0  ...   \n7802632166   238000.0        0.0  ...   \n5050137641  1040000.0        0.0  ...   \n5503175782  5411000.0  5401000.0  ...   \n...               ...        ...  ...   \n5001092490   664000.0   654000.0  ...   \n7720470186   549000.0   539000.0  ...   \n2339017184  7752000.0  7742000.0  ...   \n2348031481  6262000.0  6262000.0  ...   \n7734634941   381000.0        0.0  ...   \n\n            Информация по действующим договорам. Худший платежный статус по кредитам: исторически  \\\nkey_0                                                                                               \n6168070785                                                7.0                                       \n7811726886                                                1.0                                       \n7802632166                                                1.0                                       \n5050137641                                                2.0                                       \n5503175782                                                3.0                                       \n...                                                       ...                                       \n5001092490                                               11.0                                       \n7720470186                                                1.0                                       \n2339017184                                                2.0                                       \n2348031481                                                1.0                                       \n7734634941                                                1.0                                       \n\n             Информация по закрытым договорам. закрытых кредитов:  \\\nkey_0                                                               \n6168070785                                               11.0       \n7811726886                                               11.0       \n7802632166                                                1.0       \n5050137641                                                1.0       \n5503175782                                               20.0       \n...                                                       ...       \n5001092490                                                6.0       \n7720470186                                                1.0       \n2339017184                                                6.0       \n2348031481                                                7.0       \n7734634941                                                3.0       \n\n             Информация по закрытым договорам. максимальный лимит :  \\\nkey_0                                                                 \n6168070785                                          8000000.0         \n7811726886                                          3000000.0         \n7802632166                                          1000000.0         \n5050137641                                           835319.0         \n5503175782                                          1539000.0         \n...                                                       ...         \n5001092490                                          8671473.0         \n7720470186                                           212000.0         \n2339017184                                           840000.0         \n2348031481                                           850000.0         \n7734634941                                          2810000.0         \n\n             Информация по закрытым договорам. Худший платежный статус по кредитам  за последние 6 мес.:  \\\nkey_0                                                                                                      \n6168070785                                                4.0                                              \n7811726886                                               11.0                                              \n7802632166                                                1.0                                              \n5050137641                                                1.0                                              \n5503175782                                                3.0                                              \n...                                                       ...                                              \n5001092490                                                5.0                                              \n7720470186                                                1.0                                              \n2339017184                                               11.0                                              \n2348031481                                                1.0                                              \n7734634941                                                5.0                                              \n\n             Информация по закрытым договорам. Худший платежный статус по кредитам  за последние 12 мес.:  \\\nkey_0                                                                                                       \n6168070785                                                4.0                                               \n7811726886                                               11.0                                               \n7802632166                                                1.0                                               \n5050137641                                                1.0                                               \n5503175782                                                3.0                                               \n...                                                       ...                                               \n5001092490                                                5.0                                               \n7720470186                                                1.0                                               \n2339017184                                               11.0                                               \n2348031481                                                1.0                                               \n7734634941                                                5.0                                               \n\n             Информация по закрытым договорам. Худший платежный статус по кредитам   исторически :  \\\nkey_0                                                                                                \n6168070785                                                4.0                                        \n7811726886                                               11.0                                        \n7802632166                                                1.0                                        \n5050137641                                               11.0                                        \n5503175782                                                3.0                                        \n...                                                       ...                                        \n5001092490                                                5.0                                        \n7720470186                                                1.0                                        \n2339017184                                                2.0                                        \n2348031481                                                1.0                                        \n7734634941                                                5.0                                        \n\n            Клиент банка  Брал ли кредит  cases_without_NAN  \\\nkey_0                                                         \n6168070785             1               0                  1   \n7811726886             1               0                  1   \n7802632166             1               0                  1   \n5050137641             1               1                  1   \n5503175782             1               1                  1   \n...                  ...             ...                ...   \n5001092490             1               0                  1   \n7720470186             1               0                  1   \n2339017184             1               0                  1   \n2348031481             1               0                  1   \n7734634941             1               0                  1   \n\n            cases_without_NAN_STRICT  \nkey_0                                 \n6168070785                         1  \n7811726886                         1  \n7802632166                         1  \n5050137641                         1  \n5503175782                         1  \n...                              ...  \n5001092490                         1  \n7720470186                         1  \n2339017184                         1  \n2348031481                         1  \n7734634941                         1  \n\n[1355 rows x 92 columns]",
      "text/html": "<div>\n<style scoped>\n    .dataframe tbody tr th:only-of-type {\n        vertical-align: middle;\n    }\n\n    .dataframe tbody tr th {\n        vertical-align: top;\n    }\n\n    .dataframe thead th {\n        text-align: right;\n    }\n</style>\n<table border=\"1\" class=\"dataframe\">\n  <thead>\n    <tr style=\"text-align: right;\">\n      <th></th>\n      <th>Возраст, лет</th>\n      <th>filtered_OKVED_cat</th>\n      <th>filtered_RegionCode_cat</th>\n      <th>RegionType_binarized</th>\n      <th>Line1100</th>\n      <th>Line1150</th>\n      <th>Line1170</th>\n      <th>Line1240</th>\n      <th>Line1300</th>\n      <th>Line1370</th>\n      <th>...</th>\n      <th>Информация по действующим договорам. Худший платежный статус по кредитам: исторически</th>\n      <th>Информация по закрытым договорам. закрытых кредитов:</th>\n      <th>Информация по закрытым договорам. максимальный лимит :</th>\n      <th>Информация по закрытым договорам. Худший платежный статус по кредитам  за последние 6 мес.:</th>\n      <th>Информация по закрытым договорам. Худший платежный статус по кредитам  за последние 12 мес.:</th>\n      <th>Информация по закрытым договорам. Худший платежный статус по кредитам   исторически :</th>\n      <th>Клиент банка</th>\n      <th>Брал ли кредит</th>\n      <th>cases_without_NAN</th>\n      <th>cases_without_NAN_STRICT</th>\n    </tr>\n    <tr>\n      <th>key_0</th>\n      <th></th>\n      <th></th>\n      <th></th>\n      <th></th>\n      <th></th>\n      <th></th>\n      <th></th>\n      <th></th>\n      <th></th>\n      <th></th>\n      <th></th>\n      <th></th>\n      <th></th>\n      <th></th>\n      <th></th>\n      <th></th>\n      <th></th>\n      <th></th>\n      <th></th>\n      <th></th>\n      <th></th>\n    </tr>\n  </thead>\n  <tbody>\n    <tr>\n      <th>6168070785</th>\n      <td>9.493151</td>\n      <td>0</td>\n      <td>0.0</td>\n      <td>0</td>\n      <td>0.0</td>\n      <td>0.0</td>\n      <td>0.0</td>\n      <td>5090000.0</td>\n      <td>7870000.0</td>\n      <td>7860000.0</td>\n      <td>...</td>\n      <td>7.0</td>\n      <td>11.0</td>\n      <td>8000000.0</td>\n      <td>4.0</td>\n      <td>4.0</td>\n      <td>4.0</td>\n      <td>1</td>\n      <td>0</td>\n      <td>1</td>\n      <td>1</td>\n    </tr>\n    <tr>\n      <th>7811726886</th>\n      <td>4.153425</td>\n      <td>5</td>\n      <td>5.0</td>\n      <td>1</td>\n      <td>294000.0</td>\n      <td>294000.0</td>\n      <td>0.0</td>\n      <td>0.0</td>\n      <td>852000.0</td>\n      <td>852000.0</td>\n      <td>...</td>\n      <td>1.0</td>\n      <td>11.0</td>\n      <td>3000000.0</td>\n      <td>11.0</td>\n      <td>11.0</td>\n      <td>11.0</td>\n      <td>1</td>\n      <td>0</td>\n      <td>1</td>\n      <td>1</td>\n    </tr>\n    <tr>\n      <th>7802632166</th>\n      <td>5.747945</td>\n      <td>3</td>\n      <td>5.0</td>\n      <td>1</td>\n      <td>0.0</td>\n      <td>0.0</td>\n      <td>0.0</td>\n      <td>0.0</td>\n      <td>238000.0</td>\n      <td>0.0</td>\n      <td>...</td>\n      <td>1.0</td>\n      <td>1.0</td>\n      <td>1000000.0</td>\n      <td>1.0</td>\n      <td>1.0</td>\n      <td>1.0</td>\n      <td>1</td>\n      <td>0</td>\n      <td>1</td>\n      <td>1</td>\n    </tr>\n    <tr>\n      <th>5050137641</th>\n      <td>5.021918</td>\n      <td>12</td>\n      <td>6.0</td>\n      <td>0</td>\n      <td>3968000.0</td>\n      <td>3968000.0</td>\n      <td>0.0</td>\n      <td>0.0</td>\n      <td>1040000.0</td>\n      <td>0.0</td>\n      <td>...</td>\n      <td>2.0</td>\n      <td>1.0</td>\n      <td>835319.0</td>\n      <td>1.0</td>\n      <td>1.0</td>\n      <td>11.0</td>\n      <td>1</td>\n      <td>1</td>\n      <td>1</td>\n      <td>1</td>\n    </tr>\n    <tr>\n      <th>5503175782</th>\n      <td>5.928767</td>\n      <td>6</td>\n      <td>19.0</td>\n      <td>0</td>\n      <td>0.0</td>\n      <td>0.0</td>\n      <td>0.0</td>\n      <td>0.0</td>\n      <td>5411000.0</td>\n      <td>5401000.0</td>\n      <td>...</td>\n      <td>3.0</td>\n      <td>20.0</td>\n      <td>1539000.0</td>\n      <td>3.0</td>\n      <td>3.0</td>\n      <td>3.0</td>\n      <td>1</td>\n      <td>1</td>\n      <td>1</td>\n      <td>1</td>\n    </tr>\n    <tr>\n      <th>...</th>\n      <td>...</td>\n      <td>...</td>\n      <td>...</td>\n      <td>...</td>\n      <td>...</td>\n      <td>...</td>\n      <td>...</td>\n      <td>...</td>\n      <td>...</td>\n      <td>...</td>\n      <td>...</td>\n      <td>...</td>\n      <td>...</td>\n      <td>...</td>\n      <td>...</td>\n      <td>...</td>\n      <td>...</td>\n      <td>...</td>\n      <td>...</td>\n      <td>...</td>\n      <td>...</td>\n    </tr>\n    <tr>\n      <th>5001092490</th>\n      <td>10.317808</td>\n      <td>3</td>\n      <td>6.0</td>\n      <td>0</td>\n      <td>54000.0</td>\n      <td>54000.0</td>\n      <td>0.0</td>\n      <td>20000.0</td>\n      <td>664000.0</td>\n      <td>654000.0</td>\n      <td>...</td>\n      <td>11.0</td>\n      <td>6.0</td>\n      <td>8671473.0</td>\n      <td>5.0</td>\n      <td>5.0</td>\n      <td>5.0</td>\n      <td>1</td>\n      <td>0</td>\n      <td>1</td>\n      <td>1</td>\n    </tr>\n    <tr>\n      <th>7720470186</th>\n      <td>3.980822</td>\n      <td>0</td>\n      <td>1.0</td>\n      <td>1</td>\n      <td>998000.0</td>\n      <td>998000.0</td>\n      <td>0.0</td>\n      <td>0.0</td>\n      <td>549000.0</td>\n      <td>539000.0</td>\n      <td>...</td>\n      <td>1.0</td>\n      <td>1.0</td>\n      <td>212000.0</td>\n      <td>1.0</td>\n      <td>1.0</td>\n      <td>1.0</td>\n      <td>1</td>\n      <td>0</td>\n      <td>1</td>\n      <td>1</td>\n    </tr>\n    <tr>\n      <th>2339017184</th>\n      <td>15.476712</td>\n      <td>1</td>\n      <td>13.0</td>\n      <td>0</td>\n      <td>620000.0</td>\n      <td>620000.0</td>\n      <td>0.0</td>\n      <td>8000.0</td>\n      <td>7752000.0</td>\n      <td>7742000.0</td>\n      <td>...</td>\n      <td>2.0</td>\n      <td>6.0</td>\n      <td>840000.0</td>\n      <td>11.0</td>\n      <td>11.0</td>\n      <td>2.0</td>\n      <td>1</td>\n      <td>0</td>\n      <td>1</td>\n      <td>1</td>\n    </tr>\n    <tr>\n      <th>2348031481</th>\n      <td>12.698630</td>\n      <td>6</td>\n      <td>13.0</td>\n      <td>0</td>\n      <td>0.0</td>\n      <td>0.0</td>\n      <td>0.0</td>\n      <td>0.0</td>\n      <td>6262000.0</td>\n      <td>6262000.0</td>\n      <td>...</td>\n      <td>1.0</td>\n      <td>7.0</td>\n      <td>850000.0</td>\n      <td>1.0</td>\n      <td>1.0</td>\n      <td>1.0</td>\n      <td>1</td>\n      <td>0</td>\n      <td>1</td>\n      <td>1</td>\n    </tr>\n    <tr>\n      <th>7734634941</th>\n      <td>13.134247</td>\n      <td>3</td>\n      <td>1.0</td>\n      <td>1</td>\n      <td>0.0</td>\n      <td>0.0</td>\n      <td>0.0</td>\n      <td>0.0</td>\n      <td>381000.0</td>\n      <td>0.0</td>\n      <td>...</td>\n      <td>1.0</td>\n      <td>3.0</td>\n      <td>2810000.0</td>\n      <td>5.0</td>\n      <td>5.0</td>\n      <td>5.0</td>\n      <td>1</td>\n      <td>0</td>\n      <td>1</td>\n      <td>1</td>\n    </tr>\n  </tbody>\n</table>\n<p>1355 rows × 92 columns</p>\n</div>"
     },
     "execution_count": 101,
     "metadata": {},
     "output_type": "execute_result"
    }
   ],
   "source": [
    "# Без пропусков почти КЛИЕНТЫ банка брали кредит\n",
    "df_main_full_float = df_main_full_float[\n",
    "                                       (df_main_full_float['cases_without_NAN_STRICT'] == 1) & \\\n",
    "                                       (df_main_full_float['Клиент банка'] == 1) # & \\\n",
    "#                                        (df_main_full_float['Брал ли кредит'] == 1)\n",
    "                                        ]\n",
    "df_main_full_float"
   ]
  },
  {
   "cell_type": "code",
   "execution_count": 102,
   "id": "0e3e5f48",
   "metadata": {
    "pycharm": {
     "name": "#%%\n"
    }
   },
   "outputs": [
    {
     "data": {
      "text/plain": "Ранжир\n1.0    581\n2.0    395\n3.0    158\n4.0    103\n6.0     72\n5.0     46\nName: count, dtype: int64"
     },
     "execution_count": 102,
     "metadata": {},
     "output_type": "execute_result"
    }
   ],
   "source": [
    "df_main_full_float['Ранжир'].value_counts()"
   ]
  },
  {
   "cell_type": "code",
   "execution_count": 103,
   "outputs": [
    {
     "data": {
      "text/plain": "((1355, 91), (1355,))"
     },
     "execution_count": 103,
     "metadata": {},
     "output_type": "execute_result"
    }
   ],
   "source": [
    "Y = df_main_full_float['Ранжир']\n",
    "X = df_main_full_float.drop(['Ранжир'], axis = 1)\n",
    "\n",
    "X.shape, Y.shape"
   ],
   "metadata": {
    "collapsed": false,
    "pycharm": {
     "name": "#%%\n"
    }
   }
  },
  {
   "cell_type": "markdown",
   "source": [
    "# Классы\n",
    "1, 2, 3: хороший\n",
    "4, 5, 6: плохой"
   ],
   "metadata": {
    "collapsed": false,
    "pycharm": {
     "name": "#%% md\n"
    }
   }
  },
  {
   "cell_type": "code",
   "execution_count": 104,
   "outputs": [],
   "source": [
    "d = {1: 1, 2: 1, 3: 1, 4: 0, 5: 0, 6: 0}\n",
    "Y = Y.replace(d).astype('int')"
   ],
   "metadata": {
    "collapsed": false,
    "pycharm": {
     "name": "#%%\n"
    }
   }
  },
  {
   "cell_type": "code",
   "execution_count": 105,
   "outputs": [],
   "source": [
    "from sklearn.model_selection import train_test_split\n",
    "\n",
    "X_train, X_test, y_train, y_test = train_test_split(X, Y, test_size=0.3)"
   ],
   "metadata": {
    "collapsed": false,
    "pycharm": {
     "name": "#%%\n"
    }
   }
  },
  {
   "cell_type": "code",
   "execution_count": 106,
   "outputs": [],
   "source": [
    "df = df_main_full_float.copy()"
   ],
   "metadata": {
    "collapsed": false,
    "pycharm": {
     "name": "#%%\n"
    }
   }
  },
  {
   "cell_type": "code",
   "execution_count": 107,
   "outputs": [
    {
     "data": {
      "text/plain": "            Возраст, лет filtered_OKVED_cat filtered_RegionCode_cat  \\\nkey_0                                                                 \n6168070785      9.493151                  0                     0.0   \n7811726886      4.153425                  5                     5.0   \n7802632166      5.747945                  3                     5.0   \n5050137641      5.021918                 12                     6.0   \n5503175782      5.928767                  6                    19.0   \n\n            RegionType_binarized   Line1100   Line1150  Line1170   Line1240  \\\nkey_0                                                                         \n6168070785                     0        0.0        0.0       0.0  5090000.0   \n7811726886                     1   294000.0   294000.0       0.0        0.0   \n7802632166                     1        0.0        0.0       0.0        0.0   \n5050137641                     0  3968000.0  3968000.0       0.0        0.0   \n5503175782                     0        0.0        0.0       0.0        0.0   \n\n             Line1300   Line1370  ...  \\\nkey_0                             ...   \n6168070785  7870000.0  7860000.0  ...   \n7811726886   852000.0   852000.0  ...   \n7802632166   238000.0        0.0  ...   \n5050137641  1040000.0        0.0  ...   \n5503175782  5411000.0  5401000.0  ...   \n\n            Информация по действующим договорам. Худший платежный статус по кредитам: исторически  \\\nkey_0                                                                                               \n6168070785                                                7.0                                       \n7811726886                                                1.0                                       \n7802632166                                                1.0                                       \n5050137641                                                2.0                                       \n5503175782                                                3.0                                       \n\n             Информация по закрытым договорам. закрытых кредитов:  \\\nkey_0                                                               \n6168070785                                               11.0       \n7811726886                                               11.0       \n7802632166                                                1.0       \n5050137641                                                1.0       \n5503175782                                               20.0       \n\n             Информация по закрытым договорам. максимальный лимит :  \\\nkey_0                                                                 \n6168070785                                          8000000.0         \n7811726886                                          3000000.0         \n7802632166                                          1000000.0         \n5050137641                                           835319.0         \n5503175782                                          1539000.0         \n\n             Информация по закрытым договорам. Худший платежный статус по кредитам  за последние 6 мес.:  \\\nkey_0                                                                                                      \n6168070785                                                4.0                                              \n7811726886                                               11.0                                              \n7802632166                                                1.0                                              \n5050137641                                                1.0                                              \n5503175782                                                3.0                                              \n\n             Информация по закрытым договорам. Худший платежный статус по кредитам  за последние 12 мес.:  \\\nkey_0                                                                                                       \n6168070785                                                4.0                                               \n7811726886                                               11.0                                               \n7802632166                                                1.0                                               \n5050137641                                                1.0                                               \n5503175782                                                3.0                                               \n\n             Информация по закрытым договорам. Худший платежный статус по кредитам   исторически :  \\\nkey_0                                                                                                \n6168070785                                                4.0                                        \n7811726886                                               11.0                                        \n7802632166                                                1.0                                        \n5050137641                                               11.0                                        \n5503175782                                                3.0                                        \n\n            Клиент банка  Брал ли кредит  cases_without_NAN  \\\nkey_0                                                         \n6168070785             1               0                  1   \n7811726886             1               0                  1   \n7802632166             1               0                  1   \n5050137641             1               1                  1   \n5503175782             1               1                  1   \n\n            cases_without_NAN_STRICT  \nkey_0                                 \n6168070785                         1  \n7811726886                         1  \n7802632166                         1  \n5050137641                         1  \n5503175782                         1  \n\n[5 rows x 92 columns]",
      "text/html": "<div>\n<style scoped>\n    .dataframe tbody tr th:only-of-type {\n        vertical-align: middle;\n    }\n\n    .dataframe tbody tr th {\n        vertical-align: top;\n    }\n\n    .dataframe thead th {\n        text-align: right;\n    }\n</style>\n<table border=\"1\" class=\"dataframe\">\n  <thead>\n    <tr style=\"text-align: right;\">\n      <th></th>\n      <th>Возраст, лет</th>\n      <th>filtered_OKVED_cat</th>\n      <th>filtered_RegionCode_cat</th>\n      <th>RegionType_binarized</th>\n      <th>Line1100</th>\n      <th>Line1150</th>\n      <th>Line1170</th>\n      <th>Line1240</th>\n      <th>Line1300</th>\n      <th>Line1370</th>\n      <th>...</th>\n      <th>Информация по действующим договорам. Худший платежный статус по кредитам: исторически</th>\n      <th>Информация по закрытым договорам. закрытых кредитов:</th>\n      <th>Информация по закрытым договорам. максимальный лимит :</th>\n      <th>Информация по закрытым договорам. Худший платежный статус по кредитам  за последние 6 мес.:</th>\n      <th>Информация по закрытым договорам. Худший платежный статус по кредитам  за последние 12 мес.:</th>\n      <th>Информация по закрытым договорам. Худший платежный статус по кредитам   исторически :</th>\n      <th>Клиент банка</th>\n      <th>Брал ли кредит</th>\n      <th>cases_without_NAN</th>\n      <th>cases_without_NAN_STRICT</th>\n    </tr>\n    <tr>\n      <th>key_0</th>\n      <th></th>\n      <th></th>\n      <th></th>\n      <th></th>\n      <th></th>\n      <th></th>\n      <th></th>\n      <th></th>\n      <th></th>\n      <th></th>\n      <th></th>\n      <th></th>\n      <th></th>\n      <th></th>\n      <th></th>\n      <th></th>\n      <th></th>\n      <th></th>\n      <th></th>\n      <th></th>\n      <th></th>\n    </tr>\n  </thead>\n  <tbody>\n    <tr>\n      <th>6168070785</th>\n      <td>9.493151</td>\n      <td>0</td>\n      <td>0.0</td>\n      <td>0</td>\n      <td>0.0</td>\n      <td>0.0</td>\n      <td>0.0</td>\n      <td>5090000.0</td>\n      <td>7870000.0</td>\n      <td>7860000.0</td>\n      <td>...</td>\n      <td>7.0</td>\n      <td>11.0</td>\n      <td>8000000.0</td>\n      <td>4.0</td>\n      <td>4.0</td>\n      <td>4.0</td>\n      <td>1</td>\n      <td>0</td>\n      <td>1</td>\n      <td>1</td>\n    </tr>\n    <tr>\n      <th>7811726886</th>\n      <td>4.153425</td>\n      <td>5</td>\n      <td>5.0</td>\n      <td>1</td>\n      <td>294000.0</td>\n      <td>294000.0</td>\n      <td>0.0</td>\n      <td>0.0</td>\n      <td>852000.0</td>\n      <td>852000.0</td>\n      <td>...</td>\n      <td>1.0</td>\n      <td>11.0</td>\n      <td>3000000.0</td>\n      <td>11.0</td>\n      <td>11.0</td>\n      <td>11.0</td>\n      <td>1</td>\n      <td>0</td>\n      <td>1</td>\n      <td>1</td>\n    </tr>\n    <tr>\n      <th>7802632166</th>\n      <td>5.747945</td>\n      <td>3</td>\n      <td>5.0</td>\n      <td>1</td>\n      <td>0.0</td>\n      <td>0.0</td>\n      <td>0.0</td>\n      <td>0.0</td>\n      <td>238000.0</td>\n      <td>0.0</td>\n      <td>...</td>\n      <td>1.0</td>\n      <td>1.0</td>\n      <td>1000000.0</td>\n      <td>1.0</td>\n      <td>1.0</td>\n      <td>1.0</td>\n      <td>1</td>\n      <td>0</td>\n      <td>1</td>\n      <td>1</td>\n    </tr>\n    <tr>\n      <th>5050137641</th>\n      <td>5.021918</td>\n      <td>12</td>\n      <td>6.0</td>\n      <td>0</td>\n      <td>3968000.0</td>\n      <td>3968000.0</td>\n      <td>0.0</td>\n      <td>0.0</td>\n      <td>1040000.0</td>\n      <td>0.0</td>\n      <td>...</td>\n      <td>2.0</td>\n      <td>1.0</td>\n      <td>835319.0</td>\n      <td>1.0</td>\n      <td>1.0</td>\n      <td>11.0</td>\n      <td>1</td>\n      <td>1</td>\n      <td>1</td>\n      <td>1</td>\n    </tr>\n    <tr>\n      <th>5503175782</th>\n      <td>5.928767</td>\n      <td>6</td>\n      <td>19.0</td>\n      <td>0</td>\n      <td>0.0</td>\n      <td>0.0</td>\n      <td>0.0</td>\n      <td>0.0</td>\n      <td>5411000.0</td>\n      <td>5401000.0</td>\n      <td>...</td>\n      <td>3.0</td>\n      <td>20.0</td>\n      <td>1539000.0</td>\n      <td>3.0</td>\n      <td>3.0</td>\n      <td>3.0</td>\n      <td>1</td>\n      <td>1</td>\n      <td>1</td>\n      <td>1</td>\n    </tr>\n  </tbody>\n</table>\n<p>5 rows × 92 columns</p>\n</div>"
     },
     "execution_count": 107,
     "metadata": {},
     "output_type": "execute_result"
    }
   ],
   "source": [
    "df.head()"
   ],
   "metadata": {
    "collapsed": false,
    "pycharm": {
     "name": "#%%\n"
    }
   }
  },
  {
   "cell_type": "code",
   "execution_count": 108,
   "outputs": [
    {
     "name": "stdout",
     "output_type": "stream",
     "text": [
      "              precision    recall  f1-score   support\n",
      "\n",
      "           0       0.46      0.19      0.27        57\n",
      "           1       0.88      0.96      0.92       350\n",
      "\n",
      "    accuracy                           0.86       407\n",
      "   macro avg       0.67      0.58      0.60       407\n",
      "weighted avg       0.82      0.86      0.83       407\n",
      "\n"
     ]
    }
   ],
   "source": [
    "import xgboost as xgb\n",
    "\n",
    "clf = xgb.XGBClassifier(enable_categorical=True, booster='gblinear', objective='binary:logistic')\n",
    "clf.fit(X_train, y_train)\n",
    "pred_xgb = clf.predict(X_test)\n",
    "\n",
    "from sklearn.metrics import classification_report\n",
    "\n",
    "print(classification_report(y_true=y_test, y_pred=pred_xgb))"
   ],
   "metadata": {
    "collapsed": false,
    "pycharm": {
     "name": "#%%\n"
    }
   }
  },
  {
   "cell_type": "code",
   "execution_count": 109,
   "outputs": [
    {
     "data": {
      "text/plain": "Index(['7735176959', '6670479397', '6658403955', '7805235431', '2225209968',\n       '2114003552', '5904173013', '2320250797', '7701587911', '1639049097',\n       '1101160901', '6603021072', '5236002914', '2204075368', '5027181321',\n       '3525442340', '6685145887', '3525365110', '5504112471', '9729277293',\n       '5262353980', '7842460442', '2510008314', '5410069710', '2225104482',\n       '7716801163', '7325140324', '6950232995', '3455052826', '7704469521',\n       '6950200320', '7804589572', '2632067324', '7802651779', '2310129858',\n       '1328016010', '2130199091', '3666138840', '7816635449', '7839097476',\n       '2124040708', '2311206199', '2222828600', '3443123790', '274191484',\n       '5001121078', '7704495874', '7203474440', '6686091352', '9715352945',\n       '2308176402', '3827045740', '7811652930', '5262361910', '1215223954',\n       '6670312983', '2225195578', '3444200254'],\n      dtype='object', name='key_0')"
     },
     "execution_count": 109,
     "metadata": {},
     "output_type": "execute_result"
    }
   ],
   "source": [
    "import numpy as np\n",
    "\n",
    "# Получите вероятности предсказания для всех клиентов\n",
    "predicted_probabilities = clf.predict_proba(X_test)[:, 1]\n",
    "\n",
    "# Установите порог вероятности\n",
    "threshold = 0.97\n",
    "\n",
    "# Получите индексы клиентов, у которых вероятность \"вернет кредит\" больше порога\n",
    "high_confidence_indices = np.where(predicted_probabilities >= threshold)[0]\n",
    "\n",
    "# Получите соответствующие записи из датасета\n",
    "high_confidence_clients = X_test.iloc[high_confidence_indices]\n",
    "\n",
    "# Выведите или предоставьте high_confidence_clients\n",
    "high_confidence_clients.index\n"
   ],
   "metadata": {
    "collapsed": false,
    "pycharm": {
     "name": "#%%\n"
    }
   }
  },
  {
   "cell_type": "code",
   "execution_count": 110,
   "outputs": [
    {
     "data": {
      "text/plain": "Ранжир\n1    57\n0     1\nName: count, dtype: int64"
     },
     "execution_count": 110,
     "metadata": {},
     "output_type": "execute_result"
    }
   ],
   "source": [
    "d = {1: 1, 2: 1, 3: 1, 4: 0, 5: 0, 6: 0}\n",
    "df_main_full_float['Ранжир'] = df_main_full_float['Ранжир'].replace(d).astype('int')\n",
    "\n",
    "df_main_full_float.loc[high_confidence_clients.index]['Ранжир'].value_counts()"
   ],
   "metadata": {
    "collapsed": false,
    "pycharm": {
     "name": "#%%\n"
    }
   }
  }
 ],
 "metadata": {
  "kernelspec": {
   "display_name": "Python 3 (ipykernel)",
   "language": "python",
   "name": "python3"
  },
  "language_info": {
   "codemirror_mode": {
    "name": "ipython",
    "version": 3
   },
   "file_extension": ".py",
   "mimetype": "text/x-python",
   "name": "python",
   "nbconvert_exporter": "python",
   "pygments_lexer": "ipython3",
   "version": "3.10.4"
  }
 },
 "nbformat": 4,
 "nbformat_minor": 5
}