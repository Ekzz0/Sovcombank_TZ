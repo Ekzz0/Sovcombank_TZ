{
 "cells": [
  {
   "cell_type": "code",
   "execution_count": 1,
   "metadata": {
    "collapsed": true,
    "pycharm": {
     "name": "#%%\n"
    }
   },
   "outputs": [
    {
     "name": "stderr",
     "output_type": "stream",
     "text": [
      "[nltk_data] Downloading package stopwords to\n",
      "[nltk_data]     C:\\Users\\S\\AppData\\Roaming\\nltk_data...\n",
      "[nltk_data]   Package stopwords is already up-to-date!\n",
      "[nltk_data] Downloading package wordnet to\n",
      "[nltk_data]     C:\\Users\\S\\AppData\\Roaming\\nltk_data...\n",
      "[nltk_data]   Package wordnet is already up-to-date!\n"
     ]
    }
   ],
   "source": [
    "import nltk\n",
    "import pandas as pd\n",
    "import numpy as np\n",
    "from nltk.corpus import stopwords\n",
    "nltk.download('stopwords')\n",
    "nltk.download('wordnet')\n",
    "\n",
    "from sklearn.feature_extraction.text import CountVectorizer\n",
    "from sklearn.decomposition import LatentDirichletAllocation\n",
    "from gensim.models import CoherenceModel"
   ]
  },
  {
   "cell_type": "code",
   "execution_count": 4,
   "outputs": [],
   "source": [
    "df = pd.read_csv('../ready_df.csv').dropna()"
   ],
   "metadata": {
    "collapsed": false,
    "pycharm": {
     "name": "#%%\n"
    }
   }
  },
  {
   "cell_type": "code",
   "execution_count": 5,
   "outputs": [
    {
     "name": "stdout",
     "output_type": "stream",
     "text": [
      "Unnamed: 0                         0\n",
      "ucid                               0\n",
      "message                            0\n",
      "ACTION_ITEM_RESULT_PRODUCT_NAME    0\n",
      "dtype: int64\n",
      "False\n",
      "42620\n"
     ]
    }
   ],
   "source": [
    "# Есть ли пропуски:\n",
    "print(df.isnull().sum())\n",
    "# Есть ли дубликаты\n",
    "print(df.duplicated().any())\n",
    "print(len(df))"
   ],
   "metadata": {
    "collapsed": false,
    "pycharm": {
     "name": "#%%\n"
    }
   }
  },
  {
   "cell_type": "code",
   "execution_count": 6,
   "outputs": [
    {
     "data": {
      "text/plain": "   Unnamed: 0                   ucid  \\\n0           0  5,01000641613474E+017   \n1           1  5,01001121614156E+017   \n2           2  5,01001811614178E+017   \n3           3  5,01002531614256E+017   \n4           4  5,01005041613457E+017   \n\n                                             message  \\\n0  добрый день это клиентский менеджер виктория с...   \n1  добрый день звать клиентский менеджер сбербанк...   \n2  добрый день звать сбербанк блок сбер бизнес об...   \n3  добрый день клиентский менеджер удобно разгова...   \n4  добрый день это сбербанк блок сбер бизнес клие...   \n\n  ACTION_ITEM_RESULT_PRODUCT_NAME  \n0                    Бизнес-карта  \n1              Зарплатные проекты  \n2              Зарплатные проекты  \n3                    Бизнес-карта  \n4              Зарплатные проекты  ",
      "text/html": "<div>\n<style scoped>\n    .dataframe tbody tr th:only-of-type {\n        vertical-align: middle;\n    }\n\n    .dataframe tbody tr th {\n        vertical-align: top;\n    }\n\n    .dataframe thead th {\n        text-align: right;\n    }\n</style>\n<table border=\"1\" class=\"dataframe\">\n  <thead>\n    <tr style=\"text-align: right;\">\n      <th></th>\n      <th>Unnamed: 0</th>\n      <th>ucid</th>\n      <th>message</th>\n      <th>ACTION_ITEM_RESULT_PRODUCT_NAME</th>\n    </tr>\n  </thead>\n  <tbody>\n    <tr>\n      <th>0</th>\n      <td>0</td>\n      <td>5,01000641613474E+017</td>\n      <td>добрый день это клиентский менеджер виктория с...</td>\n      <td>Бизнес-карта</td>\n    </tr>\n    <tr>\n      <th>1</th>\n      <td>1</td>\n      <td>5,01001121614156E+017</td>\n      <td>добрый день звать клиентский менеджер сбербанк...</td>\n      <td>Зарплатные проекты</td>\n    </tr>\n    <tr>\n      <th>2</th>\n      <td>2</td>\n      <td>5,01001811614178E+017</td>\n      <td>добрый день звать сбербанк блок сбер бизнес об...</td>\n      <td>Зарплатные проекты</td>\n    </tr>\n    <tr>\n      <th>3</th>\n      <td>3</td>\n      <td>5,01002531614256E+017</td>\n      <td>добрый день клиентский менеджер удобно разгова...</td>\n      <td>Бизнес-карта</td>\n    </tr>\n    <tr>\n      <th>4</th>\n      <td>4</td>\n      <td>5,01005041613457E+017</td>\n      <td>добрый день это сбербанк блок сбер бизнес клие...</td>\n      <td>Зарплатные проекты</td>\n    </tr>\n  </tbody>\n</table>\n</div>"
     },
     "execution_count": 6,
     "metadata": {},
     "output_type": "execute_result"
    }
   ],
   "source": [
    "df.head()"
   ],
   "metadata": {
    "collapsed": false,
    "pycharm": {
     "name": "#%%\n"
    }
   }
  },
  {
   "cell_type": "code",
   "execution_count": 7,
   "outputs": [],
   "source": [
    "from sklearn.model_selection import train_test_split\n",
    "\n",
    "X_train, X_test = train_test_split(df.message, test_size=0.3, random_state=42)"
   ],
   "metadata": {
    "collapsed": false,
    "pycharm": {
     "name": "#%%\n"
    }
   }
  },
  {
   "cell_type": "code",
   "execution_count": 42,
   "outputs": [
    {
     "data": {
      "text/plain": "CountVectorizer(max_features=3000, min_df=10, ngram_range=(2, 3),\n                stop_words=['и', 'в', 'во', 'не', 'что', 'он', 'на', 'я', 'с',\n                            'со', 'как', 'а', 'то', 'все', 'она', 'так', 'его',\n                            'но', 'да', 'ты', 'к', 'у', 'же', 'вы', 'за', 'бы',\n                            'по', 'только', 'ее', 'мне', ...])",
      "text/html": "<style>#sk-container-id-5 {color: black;background-color: white;}#sk-container-id-5 pre{padding: 0;}#sk-container-id-5 div.sk-toggleable {background-color: white;}#sk-container-id-5 label.sk-toggleable__label {cursor: pointer;display: block;width: 100%;margin-bottom: 0;padding: 0.3em;box-sizing: border-box;text-align: center;}#sk-container-id-5 label.sk-toggleable__label-arrow:before {content: \"▸\";float: left;margin-right: 0.25em;color: #696969;}#sk-container-id-5 label.sk-toggleable__label-arrow:hover:before {color: black;}#sk-container-id-5 div.sk-estimator:hover label.sk-toggleable__label-arrow:before {color: black;}#sk-container-id-5 div.sk-toggleable__content {max-height: 0;max-width: 0;overflow: hidden;text-align: left;background-color: #f0f8ff;}#sk-container-id-5 div.sk-toggleable__content pre {margin: 0.2em;color: black;border-radius: 0.25em;background-color: #f0f8ff;}#sk-container-id-5 input.sk-toggleable__control:checked~div.sk-toggleable__content {max-height: 200px;max-width: 100%;overflow: auto;}#sk-container-id-5 input.sk-toggleable__control:checked~label.sk-toggleable__label-arrow:before {content: \"▾\";}#sk-container-id-5 div.sk-estimator input.sk-toggleable__control:checked~label.sk-toggleable__label {background-color: #d4ebff;}#sk-container-id-5 div.sk-label input.sk-toggleable__control:checked~label.sk-toggleable__label {background-color: #d4ebff;}#sk-container-id-5 input.sk-hidden--visually {border: 0;clip: rect(1px 1px 1px 1px);clip: rect(1px, 1px, 1px, 1px);height: 1px;margin: -1px;overflow: hidden;padding: 0;position: absolute;width: 1px;}#sk-container-id-5 div.sk-estimator {font-family: monospace;background-color: #f0f8ff;border: 1px dotted black;border-radius: 0.25em;box-sizing: border-box;margin-bottom: 0.5em;}#sk-container-id-5 div.sk-estimator:hover {background-color: #d4ebff;}#sk-container-id-5 div.sk-parallel-item::after {content: \"\";width: 100%;border-bottom: 1px solid gray;flex-grow: 1;}#sk-container-id-5 div.sk-label:hover label.sk-toggleable__label {background-color: #d4ebff;}#sk-container-id-5 div.sk-serial::before {content: \"\";position: absolute;border-left: 1px solid gray;box-sizing: border-box;top: 0;bottom: 0;left: 50%;z-index: 0;}#sk-container-id-5 div.sk-serial {display: flex;flex-direction: column;align-items: center;background-color: white;padding-right: 0.2em;padding-left: 0.2em;position: relative;}#sk-container-id-5 div.sk-item {position: relative;z-index: 1;}#sk-container-id-5 div.sk-parallel {display: flex;align-items: stretch;justify-content: center;background-color: white;position: relative;}#sk-container-id-5 div.sk-item::before, #sk-container-id-5 div.sk-parallel-item::before {content: \"\";position: absolute;border-left: 1px solid gray;box-sizing: border-box;top: 0;bottom: 0;left: 50%;z-index: -1;}#sk-container-id-5 div.sk-parallel-item {display: flex;flex-direction: column;z-index: 1;position: relative;background-color: white;}#sk-container-id-5 div.sk-parallel-item:first-child::after {align-self: flex-end;width: 50%;}#sk-container-id-5 div.sk-parallel-item:last-child::after {align-self: flex-start;width: 50%;}#sk-container-id-5 div.sk-parallel-item:only-child::after {width: 0;}#sk-container-id-5 div.sk-dashed-wrapped {border: 1px dashed gray;margin: 0 0.4em 0.5em 0.4em;box-sizing: border-box;padding-bottom: 0.4em;background-color: white;}#sk-container-id-5 div.sk-label label {font-family: monospace;font-weight: bold;display: inline-block;line-height: 1.2em;}#sk-container-id-5 div.sk-label-container {text-align: center;}#sk-container-id-5 div.sk-container {/* jupyter's `normalize.less` sets `[hidden] { display: none; }` but bootstrap.min.css set `[hidden] { display: none !important; }` so we also need the `!important` here to be able to override the default hidden behavior on the sphinx rendered scikit-learn.org. See: https://github.com/scikit-learn/scikit-learn/issues/21755 */display: inline-block !important;position: relative;}#sk-container-id-5 div.sk-text-repr-fallback {display: none;}</style><div id=\"sk-container-id-5\" class=\"sk-top-container\"><div class=\"sk-text-repr-fallback\"><pre>CountVectorizer(max_features=3000, min_df=10, ngram_range=(2, 3),\n                stop_words=[&#x27;и&#x27;, &#x27;в&#x27;, &#x27;во&#x27;, &#x27;не&#x27;, &#x27;что&#x27;, &#x27;он&#x27;, &#x27;на&#x27;, &#x27;я&#x27;, &#x27;с&#x27;,\n                            &#x27;со&#x27;, &#x27;как&#x27;, &#x27;а&#x27;, &#x27;то&#x27;, &#x27;все&#x27;, &#x27;она&#x27;, &#x27;так&#x27;, &#x27;его&#x27;,\n                            &#x27;но&#x27;, &#x27;да&#x27;, &#x27;ты&#x27;, &#x27;к&#x27;, &#x27;у&#x27;, &#x27;же&#x27;, &#x27;вы&#x27;, &#x27;за&#x27;, &#x27;бы&#x27;,\n                            &#x27;по&#x27;, &#x27;только&#x27;, &#x27;ее&#x27;, &#x27;мне&#x27;, ...])</pre><b>In a Jupyter environment, please rerun this cell to show the HTML representation or trust the notebook. <br />On GitHub, the HTML representation is unable to render, please try loading this page with nbviewer.org.</b></div><div class=\"sk-container\" hidden><div class=\"sk-item\"><div class=\"sk-estimator sk-toggleable\"><input class=\"sk-toggleable__control sk-hidden--visually\" id=\"sk-estimator-id-5\" type=\"checkbox\" checked><label for=\"sk-estimator-id-5\" class=\"sk-toggleable__label sk-toggleable__label-arrow\">CountVectorizer</label><div class=\"sk-toggleable__content\"><pre>CountVectorizer(max_features=3000, min_df=10, ngram_range=(2, 3),\n                stop_words=[&#x27;и&#x27;, &#x27;в&#x27;, &#x27;во&#x27;, &#x27;не&#x27;, &#x27;что&#x27;, &#x27;он&#x27;, &#x27;на&#x27;, &#x27;я&#x27;, &#x27;с&#x27;,\n                            &#x27;со&#x27;, &#x27;как&#x27;, &#x27;а&#x27;, &#x27;то&#x27;, &#x27;все&#x27;, &#x27;она&#x27;, &#x27;так&#x27;, &#x27;его&#x27;,\n                            &#x27;но&#x27;, &#x27;да&#x27;, &#x27;ты&#x27;, &#x27;к&#x27;, &#x27;у&#x27;, &#x27;же&#x27;, &#x27;вы&#x27;, &#x27;за&#x27;, &#x27;бы&#x27;,\n                            &#x27;по&#x27;, &#x27;только&#x27;, &#x27;ее&#x27;, &#x27;мне&#x27;, ...])</pre></div></div></div></div></div>"
     },
     "execution_count": 42,
     "metadata": {},
     "output_type": "execute_result"
    }
   ],
   "source": [
    "vectorizer = CountVectorizer(\n",
    "    max_features=3000,\n",
    "    analyzer='word',\n",
    "    min_df=10,\n",
    "    ngram_range=(2, 3),\n",
    "    stop_words=stopwords.words('russian')\n",
    ")\n",
    "vectorizer.fit(X_train)"
   ],
   "metadata": {
    "collapsed": false,
    "pycharm": {
     "name": "#%%\n"
    }
   }
  },
  {
   "cell_type": "code",
   "execution_count": 43,
   "outputs": [],
   "source": [
    "train = vectorizer.transform(X_train).toarray()\n",
    "test = vectorizer.transform(X_test).toarray()"
   ],
   "metadata": {
    "collapsed": false,
    "pycharm": {
     "name": "#%%\n"
    }
   }
  },
  {
   "cell_type": "code",
   "execution_count": 44,
   "outputs": [
    {
     "data": {
      "text/plain": "LatentDirichletAllocation(learning_method='online', n_components=16, n_jobs=-1,\n                          random_state=42)",
      "text/html": "<style>#sk-container-id-6 {color: black;background-color: white;}#sk-container-id-6 pre{padding: 0;}#sk-container-id-6 div.sk-toggleable {background-color: white;}#sk-container-id-6 label.sk-toggleable__label {cursor: pointer;display: block;width: 100%;margin-bottom: 0;padding: 0.3em;box-sizing: border-box;text-align: center;}#sk-container-id-6 label.sk-toggleable__label-arrow:before {content: \"▸\";float: left;margin-right: 0.25em;color: #696969;}#sk-container-id-6 label.sk-toggleable__label-arrow:hover:before {color: black;}#sk-container-id-6 div.sk-estimator:hover label.sk-toggleable__label-arrow:before {color: black;}#sk-container-id-6 div.sk-toggleable__content {max-height: 0;max-width: 0;overflow: hidden;text-align: left;background-color: #f0f8ff;}#sk-container-id-6 div.sk-toggleable__content pre {margin: 0.2em;color: black;border-radius: 0.25em;background-color: #f0f8ff;}#sk-container-id-6 input.sk-toggleable__control:checked~div.sk-toggleable__content {max-height: 200px;max-width: 100%;overflow: auto;}#sk-container-id-6 input.sk-toggleable__control:checked~label.sk-toggleable__label-arrow:before {content: \"▾\";}#sk-container-id-6 div.sk-estimator input.sk-toggleable__control:checked~label.sk-toggleable__label {background-color: #d4ebff;}#sk-container-id-6 div.sk-label input.sk-toggleable__control:checked~label.sk-toggleable__label {background-color: #d4ebff;}#sk-container-id-6 input.sk-hidden--visually {border: 0;clip: rect(1px 1px 1px 1px);clip: rect(1px, 1px, 1px, 1px);height: 1px;margin: -1px;overflow: hidden;padding: 0;position: absolute;width: 1px;}#sk-container-id-6 div.sk-estimator {font-family: monospace;background-color: #f0f8ff;border: 1px dotted black;border-radius: 0.25em;box-sizing: border-box;margin-bottom: 0.5em;}#sk-container-id-6 div.sk-estimator:hover {background-color: #d4ebff;}#sk-container-id-6 div.sk-parallel-item::after {content: \"\";width: 100%;border-bottom: 1px solid gray;flex-grow: 1;}#sk-container-id-6 div.sk-label:hover label.sk-toggleable__label {background-color: #d4ebff;}#sk-container-id-6 div.sk-serial::before {content: \"\";position: absolute;border-left: 1px solid gray;box-sizing: border-box;top: 0;bottom: 0;left: 50%;z-index: 0;}#sk-container-id-6 div.sk-serial {display: flex;flex-direction: column;align-items: center;background-color: white;padding-right: 0.2em;padding-left: 0.2em;position: relative;}#sk-container-id-6 div.sk-item {position: relative;z-index: 1;}#sk-container-id-6 div.sk-parallel {display: flex;align-items: stretch;justify-content: center;background-color: white;position: relative;}#sk-container-id-6 div.sk-item::before, #sk-container-id-6 div.sk-parallel-item::before {content: \"\";position: absolute;border-left: 1px solid gray;box-sizing: border-box;top: 0;bottom: 0;left: 50%;z-index: -1;}#sk-container-id-6 div.sk-parallel-item {display: flex;flex-direction: column;z-index: 1;position: relative;background-color: white;}#sk-container-id-6 div.sk-parallel-item:first-child::after {align-self: flex-end;width: 50%;}#sk-container-id-6 div.sk-parallel-item:last-child::after {align-self: flex-start;width: 50%;}#sk-container-id-6 div.sk-parallel-item:only-child::after {width: 0;}#sk-container-id-6 div.sk-dashed-wrapped {border: 1px dashed gray;margin: 0 0.4em 0.5em 0.4em;box-sizing: border-box;padding-bottom: 0.4em;background-color: white;}#sk-container-id-6 div.sk-label label {font-family: monospace;font-weight: bold;display: inline-block;line-height: 1.2em;}#sk-container-id-6 div.sk-label-container {text-align: center;}#sk-container-id-6 div.sk-container {/* jupyter's `normalize.less` sets `[hidden] { display: none; }` but bootstrap.min.css set `[hidden] { display: none !important; }` so we also need the `!important` here to be able to override the default hidden behavior on the sphinx rendered scikit-learn.org. See: https://github.com/scikit-learn/scikit-learn/issues/21755 */display: inline-block !important;position: relative;}#sk-container-id-6 div.sk-text-repr-fallback {display: none;}</style><div id=\"sk-container-id-6\" class=\"sk-top-container\"><div class=\"sk-text-repr-fallback\"><pre>LatentDirichletAllocation(learning_method=&#x27;online&#x27;, n_components=16, n_jobs=-1,\n                          random_state=42)</pre><b>In a Jupyter environment, please rerun this cell to show the HTML representation or trust the notebook. <br />On GitHub, the HTML representation is unable to render, please try loading this page with nbviewer.org.</b></div><div class=\"sk-container\" hidden><div class=\"sk-item\"><div class=\"sk-estimator sk-toggleable\"><input class=\"sk-toggleable__control sk-hidden--visually\" id=\"sk-estimator-id-6\" type=\"checkbox\" checked><label for=\"sk-estimator-id-6\" class=\"sk-toggleable__label sk-toggleable__label-arrow\">LatentDirichletAllocation</label><div class=\"sk-toggleable__content\"><pre>LatentDirichletAllocation(learning_method=&#x27;online&#x27;, n_components=16, n_jobs=-1,\n                          random_state=42)</pre></div></div></div></div></div>"
     },
     "execution_count": 44,
     "metadata": {},
     "output_type": "execute_result"
    }
   ],
   "source": [
    "lda = LatentDirichletAllocation(\n",
    "    n_components=16,\n",
    "    learning_method='online',\n",
    "    random_state=42,\n",
    "    n_jobs=-1\n",
    ")\n",
    "lda.fit(train)"
   ],
   "metadata": {
    "collapsed": false,
    "pycharm": {
     "name": "#%%\n"
    }
   }
  },
  {
   "cell_type": "code",
   "execution_count": 46,
   "outputs": [],
   "source": [
    "def get_coherence_mean(model, texts, n_top_words=20):\n",
    "    # Кол-во тем:\n",
    "    topics = model.components_\n",
    "\n",
    "    # Предикт:\n",
    "    texts = [[word for word in doc.split()] for doc in texts]\n",
    "\n",
    "    # Словарь\n",
    "    dictionary = corpora.Dictionary(texts)\n",
    "\n",
    "    # Корпус на основе матрицы подсчета слов\n",
    "    corpus = [dictionary.doc2bow(text) for text in texts]\n",
    "    feature_names = [dictionary[i] for i in range(len(dictionary))]\n",
    "\n",
    "    # Получение ТОП слов из каждой темы:\n",
    "    top_words = []\n",
    "    for topic in topics:\n",
    "        top_words.append([feature_names[i] for i in topic.argsort()[:-n_top_words:-1]])\n",
    "\n",
    "    coherence_model = CoherenceModel(corpus=corpus,\n",
    "                                     topics=top_words,\n",
    "                                     texts=texts,\n",
    "                                     dictionary=dictionary,\n",
    "                                     coherence='c_v')\n",
    "    coherence = coherence_model.get_coherence()\n",
    "    return coherence"
   ],
   "metadata": {
    "collapsed": false,
    "pycharm": {
     "name": "#%%\n"
    }
   }
  },
  {
   "cell_type": "code",
   "execution_count": 47,
   "outputs": [
    {
     "data": {
      "text/plain": "0.5474537721452609"
     },
     "execution_count": 47,
     "metadata": {},
     "output_type": "execute_result"
    }
   ],
   "source": [
    "get_coherence_mean(lda, X_test)"
   ],
   "metadata": {
    "collapsed": false,
    "pycharm": {
     "name": "#%%\n"
    }
   }
  },
  {
   "cell_type": "markdown",
   "source": [
    "# Подобр кол-ва тематик оптимального"
   ],
   "metadata": {
    "collapsed": false,
    "pycharm": {
     "name": "#%% md\n"
    }
   }
  },
  {
   "cell_type": "code",
   "execution_count": 49,
   "outputs": [],
   "source": [
    "def predict_topic(data, model=lda):\n",
    "    topic_proba = model.transform(data)[0]\n",
    "    if np.all(topic_proba == topic_proba[0]):\n",
    "        return -17\n",
    "    return np.argmax(topic_proba)"
   ],
   "metadata": {
    "collapsed": false,
    "pycharm": {
     "name": "#%%\n"
    }
   }
  },
  {
   "cell_type": "code",
   "execution_count": 50,
   "outputs": [],
   "source": [
    "df['topics'] = [predict_topic(string) for string in vectorizer.transform(df['message'])]"
   ],
   "metadata": {
    "collapsed": false,
    "pycharm": {
     "name": "#%%\n"
    }
   }
  },
  {
   "cell_type": "code",
   "execution_count": 51,
   "outputs": [
    {
     "name": "stdout",
     "output_type": "stream",
     "text": [
      "Topic 0: \n",
      "личный кабинет сбер бизнес сбербанк бизнес бизнес онлайн добрый свидание расчётный счёт отделение банк мочь обращаться оставаться линия сбербанк бизнес онлайн \n",
      "\n",
      "Topic 1: \n",
      "услуга банк ваш время рада помочь уделить время свой контакт продукт услуга расчётный счёт персональный менеджер хотеть уточнить сказать пожалуйста \n",
      "\n",
      "Topic 2: \n",
      "блок сбер сбер бизнес блок сбер бизнес сбербанк блок добрый день сбербанк блок сбер бизнес звонить сбер бизнес звонить звонить организация клиентский менеджер \n",
      "\n",
      "Topic 3: \n",
      "минута ваш минута ваш время ваш время хотеться обсудить который хотеться предложение который который хотеться обсудить несколько минута время предложение предложение который хотеться \n",
      "\n",
      "Topic 4: \n",
      "бизнес карта готовность карта тысяча рубль рубль сутки тысяча рубль сутки личный кабинет рабочий день течение календарный денежный средство комиссия снятие \n",
      "\n",
      "Topic 5: \n",
      "сказать пожалуйста юридический лицо обслуживание юридический обслуживание юридический лицо добрый день торговый эквайринг удобно разговаривать пожалуйста удобно индивидуальный предприниматель сказать пожалуйста удобно \n",
      "\n",
      "Topic 6: \n",
      "нный персональный менеджер удалой нный удалой нный персональный нный персональный свой контакт персональный менеджер платёжный поручение формирование платёжный ваш организация формирование платёжный поручение \n",
      "\n",
      "Topic 7: \n",
      "расчётный счёт наличный расчётный наличный расчётный счёт снятие наличный снимать наличный бизнес карта комиссия банк вносить снимать круглосуточно вносить снимать наличный расчётный \n",
      "\n",
      "Topic 8: \n",
      "расчётный счёт тысяча рубль денежный средство физический лицо бизнес карта пакет услуга платёжный поручение расча тный расча тный сч тный сч \n",
      "\n",
      "Topic 9: \n",
      "зарплатный проект карта сбербанк личный карта заработный плата физический лицо подключить зарплатный работать сотрудник классический карта перевод средство сотрудник штат \n",
      "\n",
      "Topic 10: \n",
      "зарплатный проект обращаться очень очень приятно электронный почта обращаться очень приятно мочь обращаться очень сбербанк сбер заработный плата сбербанк сбер бизнес зарплатный договор \n",
      "\n",
      "Topic 11: \n",
      "номер телефон ваш номер смс сообщение услуга который ваш номер телефон бизнес рекомендовать звонить удобно уделить время сбер бизнес свой возможность \n",
      "\n",
      "Topic 12: \n",
      "добрый день клиентский менеджер это сбербанк день сбербанк добрый день сбербанк менеджер звонить добрый свидание день это сбербанк сбербанк бизнес день это \n",
      "\n",
      "Topic 13: \n",
      "бизнес карта интернет банк сбер бизнес банк сбер интернет банк сбер банк сбер бизнес хотеть рассказать рассказать помощь карта позволять расходный операция \n",
      "\n",
      "Topic 14: \n",
      "персональный менеджер добрый день индивидуальный предприниматель бизнес звонить звонить индивидуальный звонить индивидуальный предприниматель предприниматель удобно удобно говорить бизнес звонить индивидуальный индивидуальный предприниматель удобно \n",
      "\n",
      "Topic 15: \n",
      "бизнес карта личный кабинет первый март отделение банк расча тный сч тный сч расча тный специальный предложение годовой обслуживание карта который \n",
      "\n"
     ]
    }
   ],
   "source": [
    "vocab = vectorizer.get_feature_names_out()\n",
    "\n",
    "for i, comp in enumerate(lda.components_):\n",
    "    vocab_comp = zip(vocab, comp)\n",
    "    sorted_words = sorted(vocab_comp, key= lambda x:x[1], reverse=True)[:10]\n",
    "    print(\"Topic \"+str(i)+\": \")\n",
    "    for t in sorted_words:\n",
    "        print(t[0],end=\" \")\n",
    "    print(\"\\n\")"
   ],
   "metadata": {
    "collapsed": false,
    "pycharm": {
     "name": "#%%\n"
    }
   }
  },
  {
   "cell_type": "code",
   "execution_count": 57,
   "outputs": [],
   "source": [
    "from gensim import corpora\n",
    "\n",
    "\n",
    "# Предикт:\n",
    "texts = [[word for word in doc.split()] for doc in X_train]\n",
    "\n",
    "# Словарь\n",
    "dictionary = corpora.Dictionary(texts)\n",
    "\n",
    "# Корпус на основе матрицы подсчета слов\n",
    "corpus = [dictionary.doc2bow(text) for text in texts]"
   ],
   "metadata": {
    "collapsed": false,
    "pycharm": {
     "name": "#%%\n"
    }
   }
  },
  {
   "cell_type": "code",
   "execution_count": 58,
   "outputs": [],
   "source": [
    "# Словарь с ключевыми словами для каждой темы\n",
    "topics_keywords = {\n",
    "    'Приветствие': ['здравствуйте', 'привет', 'добрый день', 'рады видеть', 'приветствуем', 'приветствие', 'добро пожаловать'],\n",
    "    'Перенос активности': ['перенос', 'перемещение', 'переход', 'изменение места', 'активность', 'перемещение дел', 'перевод'],\n",
    "    'Окончание разговора': ['до свидания', 'спасибо за разговор', 'удачи', 'завершение', 'прощание'],\n",
    "    'Болтовня': ['разговор', 'беседа', 'болтовня', 'бесполезный разговор', 'пустая болтовня'],\n",
    "    'Следующие шаги': ['дальнейшие действия', 'следующий этап', 'план действий', 'следующие шаги', 'последующие мероприятия'],\n",
    "    'Безопасность': ['безопасность', 'защита', 'безопасный', 'защищенный', 'безопасность данных'],\n",
    "    'Тарифы / Цены': ['тарифы', 'цены', 'стоимость', 'тарифные планы', 'расценки'],\n",
    "    'Акции': ['акции', 'специальные предложения', 'скидки', 'акционные предложения', 'распродажа'],\n",
    "    'Удобство работы': ['удобство', 'комфорт', 'удобное использование', 'удобство в эксплуатации', 'легкость использования'],\n",
    "    'Простота настройки': ['простота', 'легкость', 'простая настройка', 'простота установки', 'быстрая настройка'],\n",
    "    'Скорость работы': ['скорость', 'быстрота', 'оперативность', 'скорость выполнения', 'быстрая работа'],\n",
    "    'Преимущества': ['преимущество', 'плюсы', 'позитивные стороны', 'достоинства', 'преимущества использования'],\n",
    "    'Вовлечение': ['вовлечение', 'заинтересованность', 'подключение к диалогу', 'стимулирование обсуждения'],\n",
    "    'Призыв к действию': ['призыв к действию', 'призыв к действию клиента', 'мотивация к действию', 'призыв к выполнению'],\n",
    "    'Инструкция по подключению/приобретению': ['инструкция', 'руководство', 'подробное описание', 'пошаговая инструкция', 'указания по установке/приобретению'],\n",
    "    'Вопрос клиента': ['вопрос', 'запрос', 'просьба', 'требование', 'вопрос клиента']\n",
    "}"
   ],
   "metadata": {
    "collapsed": false,
    "pycharm": {
     "name": "#%%\n"
    }
   }
  },
  {
   "cell_type": "code",
   "execution_count": null,
   "outputs": [
    {
     "ename": "AttributeError",
     "evalue": "'LdaModel' object has no attribute 'add_topic'",
     "output_type": "error",
     "traceback": [
      "\u001B[1;31m---------------------------------------------------------------------------\u001B[0m",
      "\u001B[1;31mAttributeError\u001B[0m                            Traceback (most recent call last)",
      "Cell \u001B[1;32mIn[59], line 8\u001B[0m\n\u001B[0;32m      6\u001B[0m \u001B[38;5;66;03m# Установка ключевых слов для каждой темы\u001B[39;00m\n\u001B[0;32m      7\u001B[0m \u001B[38;5;28;01mfor\u001B[39;00m idx, keywords \u001B[38;5;129;01min\u001B[39;00m topics_keywords\u001B[38;5;241m.\u001B[39mitems():\n\u001B[1;32m----> 8\u001B[0m     lda_model\u001B[38;5;241m.\u001B[39madd_topic(idx, keywords)\n",
      "\u001B[1;31mAttributeError\u001B[0m: 'LdaModel' object has no attribute 'add_topic'"
     ]
    }
   ],
   "source": [
    "from gensim.models import LdaModel\n",
    "\n",
    "num_topics = len(topics_keywords)  # количество тем равно количеству ключевых слов\n",
    "lda_model = LdaModel(corpus, num_topics=num_topics, id2word=dictionary, passes=15)"
   ],
   "metadata": {
    "collapsed": false,
    "pycharm": {
     "name": "#%%\n"
    }
   }
  },
  {
   "cell_type": "code",
   "execution_count": 60,
   "outputs": [
    {
     "name": "stdout",
     "output_type": "stream",
     "text": [
      "Topic: 0 \n",
      "Words: 0.061*\"организация\" + 0.048*\"добрый\" + 0.033*\"день\" + 0.031*\"просить\" + 0.029*\"звонить\" + 0.027*\"прощение\" + 0.027*\"сбербанк\" + 0.027*\"номер\" + 0.025*\"мочь\" + 0.025*\"бизнес\"\n",
      "Topic: 1 \n",
      "Words: 0.059*\"карта\" + 0.031*\"бизнес\" + 0.024*\"наличный\" + 0.022*\"ваш\" + 0.019*\"покупка\" + 0.018*\"предложение\" + 0.017*\"этот\" + 0.017*\"банк\" + 0.015*\"счёт\" + 0.015*\"год\"\n",
      "Topic: 2 \n",
      "Words: 0.067*\"карта\" + 0.064*\"бизнес\" + 0.031*\"лимит\" + 0.023*\"банк\" + 0.021*\"сумма\" + 0.017*\"мочь\" + 0.014*\"балл\" + 0.014*\"тысяча\" + 0.014*\"кэшбэк\" + 0.013*\"сбер\"\n",
      "Topic: 3 \n",
      "Words: 0.036*\"вопрос\" + 0.026*\"услуга\" + 0.026*\"время\" + 0.025*\"звонить\" + 0.023*\"ваш\" + 0.023*\"добрый\" + 0.019*\"день\" + 0.018*\"сбербанк\" + 0.017*\"быть\" + 0.017*\"менеджер\"\n",
      "Topic: 4 \n",
      "Words: 0.042*\"личный\" + 0.042*\"кабинет\" + 0.041*\"код\" + 0.027*\"смс\" + 0.025*\"бизнес\" + 0.023*\"подключение\" + 0.022*\"мочь\" + 0.021*\"зайти\" + 0.019*\"телефон\" + 0.018*\"инструкция\"\n",
      "Topic: 5 \n",
      "Words: 0.019*\"это\" + 0.018*\"нужно\" + 0.016*\"нажимать\" + 0.012*\"счёт\" + 0.012*\"далее\" + 0.012*\"нажать\" + 0.012*\"должный\" + 0.011*\"указать\" + 0.011*\"выбирать\" + 0.011*\"мочь\"\n",
      "Topic: 6 \n",
      "Words: 0.030*\"терминал\" + 0.026*\"комиссия\" + 0.026*\"эквайринг\" + 0.022*\"торговый\" + 0.021*\"месяц\" + 0.019*\"процент\" + 0.018*\"тысяча\" + 0.017*\"оборот\" + 0.017*\"это\" + 0.016*\"рубль\"\n",
      "Topic: 7 \n",
      "Words: 0.099*\"почта\" + 0.056*\"электронный\" + 0.040*\"направить\" + 0.032*\"информация\" + 0.023*\"мочь\" + 0.022*\"собака\" + 0.021*\"точка\" + 0.020*\"ваш\" + 0.018*\"письмо\" + 0.017*\"также\"\n",
      "Topic: 8 \n",
      "Words: 0.077*\"счёт\" + 0.043*\"расчётный\" + 0.034*\"банк\" + 0.025*\"сбербанк\" + 0.024*\"услуга\" + 0.023*\"пакет\" + 0.020*\"это\" + 0.015*\"пользоваться\" + 0.015*\"хотеть\" + 0.014*\"мочь\"\n",
      "Topic: 9 \n",
      "Words: 0.041*\"пожалуйста\" + 0.030*\"информация\" + 0.023*\"бизнес\" + 0.022*\"обращаться\" + 0.021*\"организация\" + 0.021*\"мочь\" + 0.020*\"ваш\" + 0.018*\"здравствуйте\" + 0.018*\"банк\" + 0.016*\"добрый\"\n",
      "Topic: 10 \n",
      "Words: 0.064*\"добрый\" + 0.060*\"перезвонить\" + 0.056*\"день\" + 0.051*\"удобно\" + 0.043*\"бизнес\" + 0.039*\"звонить\" + 0.036*\"менеджер\" + 0.035*\"сбербанк\" + 0.029*\"предприниматель\" + 0.028*\"говорить\"\n",
      "Topic: 11 \n",
      "Words: 0.032*\"линия\" + 0.031*\"мочь\" + 0.024*\"вопрос\" + 0.022*\"поддержка\" + 0.021*\"коллега\" + 0.020*\"это\" + 0.019*\"перевести\" + 0.016*\"информация\" + 0.016*\"именно\" + 0.014*\"уточнить\"\n",
      "Topic: 12 \n",
      "Words: 0.045*\"зарплатный\" + 0.039*\"проект\" + 0.037*\"карта\" + 0.024*\"комиссия\" + 0.022*\"мочь\" + 0.022*\"переводить\" + 0.020*\"перевод\" + 0.018*\"сотрудник\" + 0.017*\"это\" + 0.016*\"тысяча\"\n",
      "Topic: 13 \n",
      "Words: 0.101*\"карта\" + 0.030*\"бизнес\" + 0.026*\"мочь\" + 0.026*\"год\" + 0.018*\"это\" + 0.014*\"обслуживание\" + 0.014*\"акция\" + 0.014*\"бесплатный\" + 0.012*\"выпустить\" + 0.009*\"именно\"\n",
      "Topic: 14 \n",
      "Words: 0.028*\"ваш\" + 0.028*\"мочь\" + 0.020*\"контакт\" + 0.019*\"бизнес\" + 0.019*\"свой\" + 0.017*\"вопрос\" + 0.016*\"нный\" + 0.016*\"удалой\" + 0.016*\"направить\" + 0.015*\"банк\"\n",
      "Topic: 15 \n",
      "Words: 0.069*\"карта\" + 0.022*\"рубль\" + 0.021*\"смс\" + 0.017*\"бизнес\" + 0.014*\"мочь\" + 0.012*\"месяц\" + 0.012*\"это\" + 0.012*\"отделение\" + 0.012*\"тысяча\" + 0.011*\"ваш\"\n"
     ]
    }
   ],
   "source": [
    "# Вывод тем и соответствующих им ключевых слов\n",
    "for idx, topic in lda_model.print_topics(-1):\n",
    "    print(f'Topic: {idx} \\nWords: {topic}')"
   ],
   "metadata": {
    "collapsed": false,
    "pycharm": {
     "name": "#%%\n"
    }
   }
  },
  {
   "cell_type": "code",
   "execution_count": 64,
   "outputs": [],
   "source": [
    "# Функция для получения топика из текста\n",
    "def get_topic(text):\n",
    "    # tokens = preprocess_text(text)\n",
    "    bow_vector = dictionary.doc2bow(text.split())\n",
    "    topics_distribution = lda_model.get_document_topics(bow_vector)\n",
    "    # Возвращаем номер топика с наибольшей вероятностью для данного документа\n",
    "    return max(topics_distribution, key=lambda item: item[1])[0]\n",
    "\n",
    "# Добавление столбца с номером топика для каждой строки\n",
    "df['g_topics'] = df['message'].apply(get_topic)"
   ],
   "metadata": {
    "collapsed": false,
    "pycharm": {
     "name": "#%%\n"
    }
   }
  },
  {
   "cell_type": "code",
   "execution_count": null,
   "outputs": [],
   "source": [],
   "metadata": {
    "collapsed": false,
    "pycharm": {
     "name": "#%%\n"
    }
   }
  }
 ],
 "metadata": {
  "kernelspec": {
   "display_name": "Python 3",
   "language": "python",
   "name": "python3"
  },
  "language_info": {
   "codemirror_mode": {
    "name": "ipython",
    "version": 2
   },
   "file_extension": ".py",
   "mimetype": "text/x-python",
   "name": "python",
   "nbconvert_exporter": "python",
   "pygments_lexer": "ipython2",
   "version": "2.7.6"
  }
 },
 "nbformat": 4,
 "nbformat_minor": 0
}