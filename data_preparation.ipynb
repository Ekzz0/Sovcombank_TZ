{
 "cells": [
  {
   "cell_type": "code",
   "execution_count": 1,
   "outputs": [
    {
     "name": "stderr",
     "output_type": "stream",
     "text": [
      "[nltk_data] Downloading package stopwords to\n",
      "[nltk_data]     C:\\Users\\S\\AppData\\Roaming\\nltk_data...\n",
      "[nltk_data]   Package stopwords is already up-to-date!\n",
      "[nltk_data] Downloading package wordnet to\n",
      "[nltk_data]     C:\\Users\\S\\AppData\\Roaming\\nltk_data...\n",
      "[nltk_data]   Package wordnet is already up-to-date!\n"
     ]
    }
   ],
   "source": [
    "import nltk\n",
    "import pandas as pd\n",
    "from nltk.corpus import stopwords\n",
    "nltk.download('stopwords')\n",
    "nltk.download('wordnet')\n",
    "\n",
    "import re\n",
    "import pymorphy3"
   ],
   "metadata": {
    "collapsed": false,
    "pycharm": {
     "name": "#%%\n"
    }
   }
  },
  {
   "cell_type": "code",
   "execution_count": 2,
   "outputs": [
    {
     "data": {
      "text/plain": "                    ucid                                      text_employer  \\\n0  5,01000641613474E+017  добрый_день. это клиентский_менеджер виктория ...   \n1  5,01001121614156E+017  добрый_день. меня зовут клиентский_менеджер_сб...   \n2  5,01001811614178E+017  добрый_день. меня зовут сбербанк блок сбер биз...   \n3  5,01002531614256E+017  еще раз добрый_день клиентский_менеджер удобно...   \n4  5,01005041613457E+017  добрый_день. это сбербанк блок сбер бизнес кли...   \n\n         date ACTION_ITEM_RESULT_PRODUCT_NAME  \n0  2021-02-16                    Бизнес-карта  \n1  2021-02-24              Зарплатные проекты  \n2  2021-02-24              Зарплатные проекты  \n3  2021-02-25                    Бизнес-карта  \n4  2021-02-16              Зарплатные проекты  ",
      "text/html": "<div>\n<style scoped>\n    .dataframe tbody tr th:only-of-type {\n        vertical-align: middle;\n    }\n\n    .dataframe tbody tr th {\n        vertical-align: top;\n    }\n\n    .dataframe thead th {\n        text-align: right;\n    }\n</style>\n<table border=\"1\" class=\"dataframe\">\n  <thead>\n    <tr style=\"text-align: right;\">\n      <th></th>\n      <th>ucid</th>\n      <th>text_employer</th>\n      <th>date</th>\n      <th>ACTION_ITEM_RESULT_PRODUCT_NAME</th>\n    </tr>\n  </thead>\n  <tbody>\n    <tr>\n      <th>0</th>\n      <td>5,01000641613474E+017</td>\n      <td>добрый_день. это клиентский_менеджер виктория ...</td>\n      <td>2021-02-16</td>\n      <td>Бизнес-карта</td>\n    </tr>\n    <tr>\n      <th>1</th>\n      <td>5,01001121614156E+017</td>\n      <td>добрый_день. меня зовут клиентский_менеджер_сб...</td>\n      <td>2021-02-24</td>\n      <td>Зарплатные проекты</td>\n    </tr>\n    <tr>\n      <th>2</th>\n      <td>5,01001811614178E+017</td>\n      <td>добрый_день. меня зовут сбербанк блок сбер биз...</td>\n      <td>2021-02-24</td>\n      <td>Зарплатные проекты</td>\n    </tr>\n    <tr>\n      <th>3</th>\n      <td>5,01002531614256E+017</td>\n      <td>еще раз добрый_день клиентский_менеджер удобно...</td>\n      <td>2021-02-25</td>\n      <td>Бизнес-карта</td>\n    </tr>\n    <tr>\n      <th>4</th>\n      <td>5,01005041613457E+017</td>\n      <td>добрый_день. это сбербанк блок сбер бизнес кли...</td>\n      <td>2021-02-16</td>\n      <td>Зарплатные проекты</td>\n    </tr>\n  </tbody>\n</table>\n</div>"
     },
     "execution_count": 2,
     "metadata": {},
     "output_type": "execute_result"
    }
   ],
   "source": [
    "df = pd.read_csv('./topic_modeling_task_sample_trainPart.csv')\n",
    "df = df.drop(columns=['Unnamed: 0.1', 'Unnamed: 0'])\n",
    "df.head()"
   ],
   "metadata": {
    "collapsed": false,
    "pycharm": {
     "name": "#%%\n"
    }
   }
  },
  {
   "cell_type": "code",
   "execution_count": 3,
   "outputs": [
    {
     "data": {
      "text/plain": "ucid                               0\ntext_employer                      0\ndate                               0\nACTION_ITEM_RESULT_PRODUCT_NAME    0\ndtype: int64"
     },
     "execution_count": 3,
     "metadata": {},
     "output_type": "execute_result"
    }
   ],
   "source": [
    "# Есть ли пропуски:\n",
    "df.isnull().sum()"
   ],
   "metadata": {
    "collapsed": false,
    "pycharm": {
     "name": "#%%\n"
    }
   }
  },
  {
   "cell_type": "code",
   "execution_count": 4,
   "outputs": [
    {
     "data": {
      "text/plain": "True"
     },
     "execution_count": 4,
     "metadata": {},
     "output_type": "execute_result"
    }
   ],
   "source": [
    "# Есть ли дубликаты\n",
    "df.duplicated().any()"
   ],
   "metadata": {
    "collapsed": false,
    "pycharm": {
     "name": "#%%\n"
    }
   }
  },
  {
   "cell_type": "code",
   "execution_count": 5,
   "outputs": [
    {
     "name": "stdout",
     "output_type": "stream",
     "text": [
      "42765\n",
      "42726\n"
     ]
    }
   ],
   "source": [
    "print(len(df))\n",
    "df.drop_duplicates(inplace=True)\n",
    "print(len(df))"
   ],
   "metadata": {
    "collapsed": false,
    "pycharm": {
     "name": "#%%\n"
    }
   }
  },
  {
   "cell_type": "code",
   "execution_count": 7,
   "outputs": [],
   "source": [
    "def preprocess_text(data, stopwords=stopwords.words('russian')):\n",
    "\n",
    "    text = data.lower()\n",
    "    text = re.sub(r'[^\\sа-яА-Яa-zA-Z0-9@\\[\\]]', ' ', text)  # Удаляет пунктцацию\n",
    "    text = re.sub(r'\\w*\\d+\\w*', '', text)  # Удаляет цифры\n",
    "    text = re.sub(r'\\s{2,}', \" \", text)  # Удаляет ненужные пробелы\n",
    "    text = re.sub(r'[\\n\\r]', \"\", text)  # Удаляет ненужные пробелы\n",
    "    # text = re.sub(r'_+', ' ', text)  # Удалим _\n",
    "    text = [w for w in text.split() if w not in stopwords]  # Удалим стоп-слова\n",
    "\n",
    "    return ' '.join(text)\n",
    "\n",
    "\n",
    "def lemmatization_text(data, morph=pymorphy3.MorphAnalyzer()):\n",
    "    result = ' '.join([morph.parse(x)[0].normal_form for x in data.split()])\n",
    "    return result\n",
    "\n",
    "# Создадим функцию очистки текста\n",
    "def clean_text(data):\n",
    "    global flag\n",
    "    try:\n",
    "        result = preprocess_text(data)\n",
    "        result = lemmatization_text(result)\n",
    "        flag += 1\n",
    "        if flag % 1000 == 0:\n",
    "            print(flag)\n",
    "    except:\n",
    "        return ''\n",
    "    else:\n",
    "        return result"
   ],
   "metadata": {
    "collapsed": false,
    "pycharm": {
     "name": "#%%\n"
    }
   }
  },
  {
   "cell_type": "code",
   "execution_count": 8,
   "outputs": [
    {
     "name": "stdout",
     "output_type": "stream",
     "text": [
      "1000\n",
      "2000\n",
      "3000\n",
      "4000\n",
      "5000\n",
      "6000\n",
      "7000\n",
      "8000\n",
      "9000\n",
      "10000\n",
      "11000\n",
      "12000\n",
      "13000\n",
      "14000\n",
      "15000\n",
      "16000\n",
      "17000\n",
      "18000\n",
      "19000\n",
      "20000\n",
      "21000\n",
      "22000\n",
      "23000\n",
      "24000\n",
      "25000\n",
      "26000\n",
      "27000\n",
      "28000\n",
      "29000\n",
      "30000\n",
      "31000\n",
      "32000\n",
      "33000\n",
      "34000\n",
      "35000\n",
      "36000\n",
      "37000\n",
      "38000\n",
      "39000\n",
      "40000\n",
      "41000\n",
      "42000\n"
     ]
    }
   ],
   "source": [
    "flag = 0\n",
    "documents = df.text_employer.apply(clean_text)"
   ],
   "metadata": {
    "collapsed": false,
    "pycharm": {
     "name": "#%%\n"
    }
   }
  },
  {
   "cell_type": "code",
   "execution_count": 9,
   "outputs": [],
   "source": [
    "process_df = pd.DataFrame({'ucid': df.ucid,\n",
    "                           'message': documents,\n",
    "                           'ACTION_ITEM_RESULT_PRODUCT_NAME': df.ACTION_ITEM_RESULT_PRODUCT_NAME})"
   ],
   "metadata": {
    "collapsed": false,
    "pycharm": {
     "name": "#%%\n"
    }
   }
  },
  {
   "cell_type": "code",
   "execution_count": 10,
   "outputs": [],
   "source": [
    "process_df.to_csv('./ready.csv')"
   ],
   "metadata": {
    "collapsed": false,
    "pycharm": {
     "name": "#%%\n"
    }
   }
  },
  {
   "cell_type": "code",
   "execution_count": 11,
   "outputs": [
    {
     "name": "stdout",
     "output_type": "stream",
     "text": [
      "ucid                               0\n",
      "message                            0\n",
      "ACTION_ITEM_RESULT_PRODUCT_NAME    0\n",
      "dtype: int64\n",
      "True\n",
      "42726\n"
     ]
    }
   ],
   "source": [
    "# Есть ли пропуски:\n",
    "print(process_df.isnull().sum())\n",
    "# Есть ли дубликаты\n",
    "print(process_df.duplicated().any())\n",
    "print(len(process_df))"
   ],
   "metadata": {
    "collapsed": false,
    "pycharm": {
     "name": "#%%\n"
    }
   }
  },
  {
   "cell_type": "code",
   "execution_count": null,
   "outputs": [],
   "source": [],
   "metadata": {
    "collapsed": false,
    "pycharm": {
     "name": "#%%\n"
    }
   }
  }
 ],
 "metadata": {
  "kernelspec": {
   "display_name": "Python 3",
   "language": "python",
   "name": "python3"
  },
  "language_info": {
   "codemirror_mode": {
    "name": "ipython",
    "version": 2
   },
   "file_extension": ".py",
   "mimetype": "text/x-python",
   "name": "python",
   "nbconvert_exporter": "python",
   "pygments_lexer": "ipython2",
   "version": "2.7.6"
  }
 },
 "nbformat": 4,
 "nbformat_minor": 0
}